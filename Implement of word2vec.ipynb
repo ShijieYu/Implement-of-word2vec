{
 "cells": [
  {
   "cell_type": "markdown",
   "metadata": {
    "id": "rkzhkLB2705e"
   },
   "source": [
    "# **<center>Implement of word2vec</center>**"
   ]
  },
  {
   "cell_type": "markdown",
   "metadata": {
    "id": "sDzGQk2_RBeR"
   },
   "source": [
    "## 1 Inroduction the word2vec approach"
   ]
  },
  {
   "cell_type": "markdown",
   "metadata": {
    "id": "0JZaYEIiMjuo"
   },
   "source": [
    "If we apply one hot encoding, any two different words have a similarity of 0. And only two same words have a similarity of 1. For example, if we have two words 'statistics' and 'learning', we apply one hot encoding and calculate the similarity of them. What we could get are showing as below:\n",
    "<center><img width=\"700\" src = \"https://drive.google.com/uc?export=view&id=18n1z5-NUKxnO9h4L5YPwfmVdfOZE-PFj\"></center>\n",
    "\n",
    "We could find that the similarity of two different words is 0. The matrix of one hot encoding is huge. It doesn't consider the similarity and the sequence of the word."
   ]
  },
  {
   "cell_type": "markdown",
   "metadata": {
    "id": "24Icco-tRQMG"
   },
   "source": [
    "## 2 Preprocessing the data"
   ]
  },
  {
   "cell_type": "markdown",
   "metadata": {
    "id": "Vu9G94a2T4FV"
   },
   "source": [
    "We load the 'RedditNews.csv' into a 'DataFrame' named 'data'. Then we create a 'list' named 'news' to store all the news. We can find that there are totally 73608 news."
   ]
  },
  {
   "cell_type": "code",
   "execution_count": null,
   "metadata": {
    "colab": {
     "base_uri": "https://localhost:8080/"
    },
    "id": "bvi3XsYQL33g",
    "outputId": "418ea505-8d0c-4e98-9376-95677d541bde"
   },
   "outputs": [
    {
     "name": "stdout",
     "output_type": "stream",
     "text": [
      "Mounted at /content/drive\n"
     ]
    }
   ],
   "source": [
    "# Access files from Google Drive\n",
    "from google.colab import drive \n",
    "drive.mount('/content/drive')"
   ]
  },
  {
   "cell_type": "code",
   "execution_count": null,
   "metadata": {
    "id": "DjrrQXGtQ3LP"
   },
   "outputs": [],
   "source": [
    "import numpy as np\n",
    "import pandas as pd\n",
    "import matplotlib.pyplot as plt\n",
    "import random\n",
    "import re\n",
    "from tensorflow.keras.preprocessing.text import Tokenizer\n",
    "from collections import defaultdict\n",
    "from scipy.special import expit\n",
    "from sklearn.decomposition import PCA\n",
    "import warnings"
   ]
  },
  {
   "cell_type": "code",
   "execution_count": null,
   "metadata": {
    "colab": {
     "base_uri": "https://localhost:8080/",
     "height": 238
    },
    "id": "MPrz1VyDR3eH",
    "outputId": "1f366742-6bca-4f8f-85a1-b198a786bfa7"
   },
   "outputs": [
    {
     "data": {
      "text/html": [
       "\n",
       "  <div id=\"df-702b01ed-c2c4-4c26-a889-5826325c08b6\">\n",
       "    <div class=\"colab-df-container\">\n",
       "      <div>\n",
       "<style scoped>\n",
       "    .dataframe tbody tr th:only-of-type {\n",
       "        vertical-align: middle;\n",
       "    }\n",
       "\n",
       "    .dataframe tbody tr th {\n",
       "        vertical-align: top;\n",
       "    }\n",
       "\n",
       "    .dataframe thead th {\n",
       "        text-align: right;\n",
       "    }\n",
       "</style>\n",
       "<table border=\"1\" class=\"dataframe\">\n",
       "  <thead>\n",
       "    <tr style=\"text-align: right;\">\n",
       "      <th></th>\n",
       "      <th>News</th>\n",
       "    </tr>\n",
       "    <tr>\n",
       "      <th>Date</th>\n",
       "      <th></th>\n",
       "    </tr>\n",
       "  </thead>\n",
       "  <tbody>\n",
       "    <tr>\n",
       "      <th>2016-07-01</th>\n",
       "      <td>A 117-year-old woman in Mexico City finally re...</td>\n",
       "    </tr>\n",
       "    <tr>\n",
       "      <th>2016-07-01</th>\n",
       "      <td>IMF chief backs Athens as permanent Olympic host</td>\n",
       "    </tr>\n",
       "    <tr>\n",
       "      <th>2016-07-01</th>\n",
       "      <td>The president of France says if Brexit won, so...</td>\n",
       "    </tr>\n",
       "    <tr>\n",
       "      <th>2016-07-01</th>\n",
       "      <td>British Man Who Must Give Police 24 Hours' Not...</td>\n",
       "    </tr>\n",
       "    <tr>\n",
       "      <th>2016-07-01</th>\n",
       "      <td>100+ Nobel laureates urge Greenpeace to stop o...</td>\n",
       "    </tr>\n",
       "  </tbody>\n",
       "</table>\n",
       "</div>\n",
       "      <button class=\"colab-df-convert\" onclick=\"convertToInteractive('df-702b01ed-c2c4-4c26-a889-5826325c08b6')\"\n",
       "              title=\"Convert this dataframe to an interactive table.\"\n",
       "              style=\"display:none;\">\n",
       "        \n",
       "  <svg xmlns=\"http://www.w3.org/2000/svg\" height=\"24px\"viewBox=\"0 0 24 24\"\n",
       "       width=\"24px\">\n",
       "    <path d=\"M0 0h24v24H0V0z\" fill=\"none\"/>\n",
       "    <path d=\"M18.56 5.44l.94 2.06.94-2.06 2.06-.94-2.06-.94-.94-2.06-.94 2.06-2.06.94zm-11 1L8.5 8.5l.94-2.06 2.06-.94-2.06-.94L8.5 2.5l-.94 2.06-2.06.94zm10 10l.94 2.06.94-2.06 2.06-.94-2.06-.94-.94-2.06-.94 2.06-2.06.94z\"/><path d=\"M17.41 7.96l-1.37-1.37c-.4-.4-.92-.59-1.43-.59-.52 0-1.04.2-1.43.59L10.3 9.45l-7.72 7.72c-.78.78-.78 2.05 0 2.83L4 21.41c.39.39.9.59 1.41.59.51 0 1.02-.2 1.41-.59l7.78-7.78 2.81-2.81c.8-.78.8-2.07 0-2.86zM5.41 20L4 18.59l7.72-7.72 1.47 1.35L5.41 20z\"/>\n",
       "  </svg>\n",
       "      </button>\n",
       "      \n",
       "  <style>\n",
       "    .colab-df-container {\n",
       "      display:flex;\n",
       "      flex-wrap:wrap;\n",
       "      gap: 12px;\n",
       "    }\n",
       "\n",
       "    .colab-df-convert {\n",
       "      background-color: #E8F0FE;\n",
       "      border: none;\n",
       "      border-radius: 50%;\n",
       "      cursor: pointer;\n",
       "      display: none;\n",
       "      fill: #1967D2;\n",
       "      height: 32px;\n",
       "      padding: 0 0 0 0;\n",
       "      width: 32px;\n",
       "    }\n",
       "\n",
       "    .colab-df-convert:hover {\n",
       "      background-color: #E2EBFA;\n",
       "      box-shadow: 0px 1px 2px rgba(60, 64, 67, 0.3), 0px 1px 3px 1px rgba(60, 64, 67, 0.15);\n",
       "      fill: #174EA6;\n",
       "    }\n",
       "\n",
       "    [theme=dark] .colab-df-convert {\n",
       "      background-color: #3B4455;\n",
       "      fill: #D2E3FC;\n",
       "    }\n",
       "\n",
       "    [theme=dark] .colab-df-convert:hover {\n",
       "      background-color: #434B5C;\n",
       "      box-shadow: 0px 1px 3px 1px rgba(0, 0, 0, 0.15);\n",
       "      filter: drop-shadow(0px 1px 2px rgba(0, 0, 0, 0.3));\n",
       "      fill: #FFFFFF;\n",
       "    }\n",
       "  </style>\n",
       "\n",
       "      <script>\n",
       "        const buttonEl =\n",
       "          document.querySelector('#df-702b01ed-c2c4-4c26-a889-5826325c08b6 button.colab-df-convert');\n",
       "        buttonEl.style.display =\n",
       "          google.colab.kernel.accessAllowed ? 'block' : 'none';\n",
       "\n",
       "        async function convertToInteractive(key) {\n",
       "          const element = document.querySelector('#df-702b01ed-c2c4-4c26-a889-5826325c08b6');\n",
       "          const dataTable =\n",
       "            await google.colab.kernel.invokeFunction('convertToInteractive',\n",
       "                                                     [key], {});\n",
       "          if (!dataTable) return;\n",
       "\n",
       "          const docLinkHtml = 'Like what you see? Visit the ' +\n",
       "            '<a target=\"_blank\" href=https://colab.research.google.com/notebooks/data_table.ipynb>data table notebook</a>'\n",
       "            + ' to learn more about interactive tables.';\n",
       "          element.innerHTML = '';\n",
       "          dataTable['output_type'] = 'display_data';\n",
       "          await google.colab.output.renderOutput(dataTable, element);\n",
       "          const docLink = document.createElement('div');\n",
       "          docLink.innerHTML = docLinkHtml;\n",
       "          element.appendChild(docLink);\n",
       "        }\n",
       "      </script>\n",
       "    </div>\n",
       "  </div>\n",
       "  "
      ],
      "text/plain": [
       "                                                         News\n",
       "Date                                                         \n",
       "2016-07-01  A 117-year-old woman in Mexico City finally re...\n",
       "2016-07-01   IMF chief backs Athens as permanent Olympic host\n",
       "2016-07-01  The president of France says if Brexit won, so...\n",
       "2016-07-01  British Man Who Must Give Police 24 Hours' Not...\n",
       "2016-07-01  100+ Nobel laureates urge Greenpeace to stop o..."
      ]
     },
     "execution_count": 4,
     "metadata": {},
     "output_type": "execute_result"
    }
   ],
   "source": [
    "data = pd.read_csv('/content/drive/MyDrive/Colab Notebooks/machine learning/RedditNews.csv', index_col = 0)\n",
    "data.head(5)"
   ]
  },
  {
   "cell_type": "code",
   "execution_count": null,
   "metadata": {
    "colab": {
     "base_uri": "https://localhost:8080/"
    },
    "id": "zejPA-WDTjub",
    "outputId": "3b450325-8792-48c7-f633-c87f98165450"
   },
   "outputs": [
    {
     "name": "stdout",
     "output_type": "stream",
     "text": [
      "The president of France says if Brexit won, so can Donald Trump\n",
      "73608\n"
     ]
    }
   ],
   "source": [
    "news = data['News'].values.tolist()\n",
    "print(news[2])\n",
    "print(len(news))"
   ]
  },
  {
   "cell_type": "code",
   "execution_count": null,
   "metadata": {
    "id": "PrHA4BlqOmgw"
   },
   "outputs": [],
   "source": [
    "# We randomly select 2000 documents for easy calcualtion for the algorithm part\n",
    "slice_news = random.sample(news, 2000)"
   ]
  },
  {
   "cell_type": "markdown",
   "metadata": {
    "id": "_KfeWjF6bF7j"
   },
   "source": [
    "We preprocess the data by using 'Tokenizer'. As the print shows, the third news has turned into a list of sequence of integers."
   ]
  },
  {
   "cell_type": "code",
   "execution_count": null,
   "metadata": {
    "id": "rIijTUjfULrV"
   },
   "outputs": [],
   "source": [
    "# Set the Hyperparameters\n",
    "max_number_words = 100000\n",
    "\n",
    "# Preprocessing \n",
    "tokenizer = Tokenizer(num_words = max_number_words,\n",
    "                      oov_token='UNK',\n",
    "                      filters='!\"#$%&()*+,-./:;<=>?@[\\\\]^_`{|}~\\t\\n', \n",
    "                      lower=True)\n",
    "# Create the word_index dictionary\n",
    "tokenizer.fit_on_texts(slice_news)\n",
    "# Transforming news into a list of lists of integers\n",
    "news_processed = tokenizer.texts_to_sequences(slice_news)"
   ]
  },
  {
   "cell_type": "code",
   "execution_count": null,
   "metadata": {
    "colab": {
     "base_uri": "https://localhost:8080/"
    },
    "id": "wajKw9X2aRA0",
    "outputId": "438e588f-0276-4f36-e5a0-8ad8c67c6cc1"
   },
   "outputs": [
    {
     "name": "stdout",
     "output_type": "stream",
     "text": [
      "[3534, 2, 2244, 17, 1276, 1277, 2245, 2, 629, 3535]\n"
     ]
    }
   ],
   "source": [
    "print(news_processed[2])"
   ]
  },
  {
   "cell_type": "markdown",
   "metadata": {
    "id": "lGKB7kImnDYv"
   },
   "source": [
    "We create a dictionary named 'word_to_index' and reverse it to get a new dictionary named 'index_to_word'. Then for each sentence of the processed news, we add '0' and 'max_number_words' at the start and the end of the sequence. According to the dictionary 'index_to_word', '0' indicates \"$<\\text{sos}>$\" and 'max_number_words' indicates \"$<\\text{eos}>$\"."
   ]
  },
  {
   "cell_type": "code",
   "execution_count": null,
   "metadata": {
    "colab": {
     "base_uri": "https://localhost:8080/"
    },
    "id": "eDKrpRcBbFEs",
    "outputId": "1cc1000d-f89a-48ee-a750-77bc45fa0015"
   },
   "outputs": [
    {
     "name": "stdout",
     "output_type": "stream",
     "text": [
      "[0, 3534, 2, 2244, 17, 1276, 1277, 2245, 2, 629, 3535, 8589]\n"
     ]
    }
   ],
   "source": [
    "max_number_words = len(tokenizer.word_index)\n",
    "word_to_index = {}\n",
    "word_to_index['<sos>'] = 0\n",
    "\n",
    "for word, index in tokenizer.word_index.items():\n",
    "  if index < max_number_words:\n",
    "    word_to_index[word] = index\n",
    "\n",
    "word_to_index['<eos>'] = max_number_words\n",
    "\n",
    "# Reverse the word_to_index into index_to_word\n",
    "index_to_word = {index: word for word, index in word_to_index.items()}\n",
    "\n",
    "sequences = []\n",
    "for sequence in news_processed:\n",
    "    sequences.append([0] + sequence + [max_number_words])\n",
    "\n",
    "random.shuffle(sequence)\n",
    "\n",
    "print(sequences[2])\n"
   ]
  },
  {
   "cell_type": "markdown",
   "metadata": {
    "id": "oTnmdrEfqdd4"
   },
   "source": [
    "To filter documnets with at least 6 words. We delete document with the length smaller than 8. Because we add \"$<\\text{sos}>$\" and \"$<\\text{eos}>$\" to the sequence. And we get the filtered sequences size as 1936."
   ]
  },
  {
   "cell_type": "code",
   "execution_count": null,
   "metadata": {
    "colab": {
     "base_uri": "https://localhost:8080/"
    },
    "id": "Lvhb5PZgnC19",
    "outputId": "fbb7bd74-2712-4008-a8cd-c6c7e98dae72"
   },
   "outputs": [
    {
     "name": "stdout",
     "output_type": "stream",
     "text": [
      "1951\n"
     ]
    }
   ],
   "source": [
    "for sequence in sequences:\n",
    "  if len(sequence) < 8:\n",
    "    sequences.remove(sequence)\n",
    "\n",
    "print(len(sequences))"
   ]
  },
  {
   "cell_type": "markdown",
   "metadata": {
    "id": "rcX03jy5ca45"
   },
   "source": [
    "## 3 Preparing the training dataset for a binary classification problem from the processed corpus"
   ]
  },
  {
   "cell_type": "markdown",
   "metadata": {
    "id": "9K137WdHcqA-"
   },
   "source": [
    "### 3.1 Introducing the positive and negative batch associated with a true center word"
   ]
  },
  {
   "cell_type": "markdown",
   "metadata": {
    "id": "P-4WDULn8gw0"
   },
   "source": [
    "We calculate the negative sampling distribution n according to the formula (3.1). And we set the return of this function as a dictionary of the word and its distribution.\n",
    "We test the function by printing the negative sampling distribution."
   ]
  },
  {
   "cell_type": "code",
   "execution_count": null,
   "metadata": {
    "id": "FjNtTatcqd1e"
   },
   "outputs": [],
   "source": [
    "def negative_sampling(sequences, V):\n",
    "  word_freq = defaultdict(int)\n",
    "  \n",
    "  for sequence in sequences:\n",
    "    for word in sequence:\n",
    "      if word < V:\n",
    "        word_freq[word] += 1\n",
    "\n",
    "  total_word = sum([freq**(3/4) for freq in word_freq.values()])\n",
    "  negative_word_distribution = {word: freq**(3/4)/total_word for word, freq in word_freq.items()}\n",
    "  #list_result = list(negative_word_distribution.values())\n",
    "  return negative_word_distribution"
   ]
  },
  {
   "cell_type": "code",
   "execution_count": null,
   "metadata": {
    "colab": {
     "base_uri": "https://localhost:8080/"
    },
    "id": "nNxfeeWAmXWH",
    "outputId": "6e2cbdcb-7713-441e-c068-ddb8820d0ace"
   },
   "outputs": [
    {
     "name": "stdout",
     "output_type": "stream",
     "text": [
      "0.009222298461759775\n"
     ]
    }
   ],
   "source": [
    "print(negative_sampling(sequences, max_number_words)[3])"
   ]
  },
  {
   "cell_type": "markdown",
   "metadata": {
    "id": "aos8ViFz9Lk-"
   },
   "source": [
    "We define a new function named 'generate_negative_sampling'. It takes the distribution we define before and a positive smapling list as the input. In the function, we use random choice to select the fake word. For each sequence, we could get its positive sampling list (which generates true couples), then what we select as the fake center word should not be in the positive list.\n",
    "We also test the function by initializing a positive list named 'pos_list' and use the function to generate the fake center word."
   ]
  },
  {
   "cell_type": "code",
   "execution_count": null,
   "metadata": {
    "id": "_elDC21QpyYJ"
   },
   "outputs": [],
   "source": [
    "def generate_negative_sampling(negative_word_distribution):\n",
    "  fake_word = np.random.choice(list(negative_word_distribution.keys()), \n",
    "                               p = list(negative_word_distribution.values()))\n",
    "\n",
    "  return fake_word"
   ]
  },
  {
   "cell_type": "code",
   "execution_count": null,
   "metadata": {
    "colab": {
     "base_uri": "https://localhost:8080/"
    },
    "id": "x5yj3Np7wgN1",
    "outputId": "7bc0b94d-9bad-46b5-b15e-0f887738ad72"
   },
   "outputs": [
    {
     "name": "stdout",
     "output_type": "stream",
     "text": [
      "7400\n"
     ]
    }
   ],
   "source": [
    "fake_word = generate_negative_sampling(negative_sampling(sequences, max_number_words))\n",
    "print(fake_word)"
   ]
  },
  {
   "cell_type": "markdown",
   "metadata": {
    "id": "qeVPvfFQEUMB"
   },
   "source": [
    "We create a function named 'get_context_words'. We generate context word by selecting its left hand side and right hand side. We set the boundary by using function of max() and min()."
   ]
  },
  {
   "cell_type": "code",
   "execution_count": null,
   "metadata": {
    "id": "zpZG9H-S-5gs"
   },
   "outputs": [],
   "source": [
    "def get_context_words(position, sequence, contextsize):\n",
    "  output_list = list()\n",
    "\n",
    "  # For the left hand side\n",
    "  for i in range(max(position-contextsize,0), position):\n",
    "    output_list.append(sequence[i])\n",
    "  \n",
    "  # For the right hand side\n",
    "  for i in range(position+1, min(position+contextsize, len(sequence)-1)+1):\n",
    "    output_list.append(sequence[i])\n",
    "  \n",
    "  return output_list"
   ]
  },
  {
   "cell_type": "markdown",
   "metadata": {
    "id": "r7EwfAGrFJSC"
   },
   "source": [
    "We test the function with the following parameters:\n",
    "\n",
    "position = 4\n",
    "\n",
    "test_sequence = [0, 45, 64, 675, 56, 235, 76, 443, 654, 765, 10000]\n",
    "\n",
    "test_contextsize = 3\n",
    "\n",
    "And we get the same output list as the example shows.\n"
   ]
  },
  {
   "cell_type": "code",
   "execution_count": null,
   "metadata": {
    "colab": {
     "base_uri": "https://localhost:8080/"
    },
    "id": "f1zPMogtAnjE",
    "outputId": "cd353a22-02e2-457e-bfb9-923ca6b7ffcb"
   },
   "outputs": [
    {
     "name": "stdout",
     "output_type": "stream",
     "text": [
      "[45, 64, 675, 235, 76, 443]\n"
     ]
    }
   ],
   "source": [
    "test_position = 4\n",
    "test_sequence = [0, 45, 64, 675, 56, 235, 76, 443, 654, 765, 10000]\n",
    "test_contextsize = 3\n",
    "print(get_context_words(test_position, test_sequence, test_contextsize))"
   ]
  },
  {
   "cell_type": "markdown",
   "metadata": {
    "id": "KJWRSkcGFpdt"
   },
   "source": [
    "### 3.2 A small Example"
   ]
  },
  {
   "cell_type": "markdown",
   "metadata": {
    "id": "MmlovMW0IamB"
   },
   "source": [
    "We create the fake corpus by deleting punctuations in the document and lower all letters."
   ]
  },
  {
   "cell_type": "code",
   "execution_count": null,
   "metadata": {
    "id": "Neh_J3TsFkrC"
   },
   "outputs": [],
   "source": [
    "text1 = '...dire consequences for the UK economy, even as markets were rocked...'\n",
    "text2 = '...High pay for bosses hurting economy says senior Bank of England...'\n",
    "text3 = '...Mervyn King believes the world economy will soon face another crash...'\n",
    "\n",
    "# Delete punctuation\n",
    "text1 = re.sub(r'[^\\w\\s]','',text1)\n",
    "text2 = re.sub(r'[^\\w\\s]','',text2)\n",
    "text3 = re.sub(r'[^\\w\\s]','',text3)\n",
    "\n",
    "# Turn into lower\n",
    "text1 = text1.lower()\n",
    "text2 = text2.lower()\n",
    "text3 = text3.lower()\n",
    "\n",
    "document1 = text1.split()\n",
    "document2 = text2.split()\n",
    "document3 = text3.split()\n",
    "\n",
    "\n",
    "fake_corpus = [document1, document2, document3]"
   ]
  },
  {
   "cell_type": "code",
   "execution_count": null,
   "metadata": {
    "colab": {
     "base_uri": "https://localhost:8080/"
    },
    "id": "U3N-hjjeFmI9",
    "outputId": "9e20444b-2f69-4ad9-f609-d6a6e939eedd"
   },
   "outputs": [
    {
     "name": "stdout",
     "output_type": "stream",
     "text": [
      "[['dire', 'consequences', 'for', 'the', 'uk', 'economy', 'even', 'as', 'markets', 'were', 'rocked'], ['high', 'pay', 'for', 'bosses', 'hurting', 'economy', 'says', 'senior', 'bank', 'of', 'england'], ['mervyn', 'king', 'believes', 'the', 'world', 'economy', 'will', 'soon', 'face', 'another', 'crash']]\n"
     ]
    }
   ],
   "source": [
    "print(fake_corpus)"
   ]
  },
  {
   "cell_type": "markdown",
   "metadata": {
    "id": "kvQypd6fMLpC"
   },
   "source": [
    "We iterate all the words in the fake corpus. If the word has been recorded in the dictionary, we continue our loop. If the word hasn't been recored in the dictionary, we record it with a new index. The index starts from 1."
   ]
  },
  {
   "cell_type": "code",
   "execution_count": null,
   "metadata": {
    "colab": {
     "base_uri": "https://localhost:8080/"
    },
    "id": "nOffcaJWKN48",
    "outputId": "ed94ae86-6ee0-4822-875f-7c513bb0caf8"
   },
   "outputs": [
    {
     "name": "stdout",
     "output_type": "stream",
     "text": [
      "{'dire': 1, 'consequences': 2, 'for': 3, 'the': 4, 'uk': 5, 'economy': 6, 'even': 7, 'as': 8, 'markets': 9, 'were': 10, 'rocked': 11, 'high': 12, 'pay': 13, 'bosses': 14, 'hurting': 15, 'says': 16, 'senior': 17, 'bank': 18, 'of': 19, 'england': 20, 'mervyn': 21, 'king': 22, 'believes': 23, 'world': 24, 'will': 25, 'soon': 26, 'face': 27, 'another': 28, 'crash': 29}\n"
     ]
    }
   ],
   "source": [
    "temp_index = 1\n",
    "\n",
    "word2idx = {}\n",
    "\n",
    "for text in fake_corpus:\n",
    "  for word in text:\n",
    "    if word in word2idx.keys():\n",
    "      continue\n",
    "    else:\n",
    "      word2idx[word] = temp_index\n",
    "      temp_index += 1\n",
    "\n",
    "print(word2idx)"
   ]
  },
  {
   "cell_type": "markdown",
   "metadata": {
    "id": "OixjEsnfPU9A"
   },
   "source": [
    "We iterate each word in each document and append the corresponding index into a list. The corpus with a list of lists of integers is called 'processed_fake_corpus'."
   ]
  },
  {
   "cell_type": "code",
   "execution_count": null,
   "metadata": {
    "colab": {
     "base_uri": "https://localhost:8080/"
    },
    "id": "vChVy4ZNM_54",
    "outputId": "330b648b-1c52-4856-faf9-ed6d934e4321"
   },
   "outputs": [
    {
     "name": "stdout",
     "output_type": "stream",
     "text": [
      "[[1, 2, 3, 4, 5, 6, 7, 8, 9, 10, 11], [12, 13, 3, 14, 15, 6, 16, 17, 18, 19, 20], [21, 22, 23, 4, 24, 6, 25, 26, 27, 28, 29]]\n"
     ]
    }
   ],
   "source": [
    "temp1 = []\n",
    "temp2 = []\n",
    "temp3 = []\n",
    "\n",
    "for word in document1:\n",
    "  temp1.append(word2idx[word])\n",
    "\n",
    "for word in document2:\n",
    "  temp2.append(word2idx[word])\n",
    "\n",
    "for word in document3:\n",
    "  temp3.append(word2idx[word])\n",
    "\n",
    "processed_fake_corpus = [temp1, temp2, temp3]\n",
    "\n",
    "print(processed_fake_corpus)"
   ]
  },
  {
   "cell_type": "markdown",
   "metadata": {
    "id": "NkZrzlhcPl2d"
   },
   "source": [
    "We use the function before to get the indices of the context words."
   ]
  },
  {
   "cell_type": "code",
   "execution_count": null,
   "metadata": {
    "colab": {
     "base_uri": "https://localhost:8080/"
    },
    "id": "s6W_0xslPl-o",
    "outputId": "66e41d35-a860-4c95-bf81-0636b8b06980"
   },
   "outputs": [
    {
     "name": "stdout",
     "output_type": "stream",
     "text": [
      "[3, 14, 15, 16, 17, 18]\n"
     ]
    }
   ],
   "source": [
    "q13_position = document2.index('economy')\n",
    "q13_sequence = temp2\n",
    "q13_contextsize = 3\n",
    "\n",
    "q13_context_words_indices = get_context_words(q13_position, q13_sequence, q13_contextsize)\n",
    "print(q13_context_words_indices)"
   ]
  },
  {
   "cell_type": "markdown",
   "metadata": {
    "id": "5npGvRoGXWeT"
   },
   "source": [
    "We first calculate the negative sampling distribution and then generate the index of fake word."
   ]
  },
  {
   "cell_type": "code",
   "execution_count": null,
   "metadata": {
    "colab": {
     "base_uri": "https://localhost:8080/"
    },
    "id": "D89vFrmxR2gs",
    "outputId": "38ad6de9-de25-4209-88c2-adb328c409fa"
   },
   "outputs": [
    {
     "name": "stdout",
     "output_type": "stream",
     "text": [
      "10\n"
     ]
    }
   ],
   "source": [
    "q14_negative_sample_distribution = negative_sampling(processed_fake_corpus, 30)\n",
    "q14_fake_word_idx = generate_negative_sampling(q14_negative_sample_distribution)\n",
    "print(q14_fake_word_idx)"
   ]
  },
  {
   "cell_type": "markdown",
   "metadata": {
    "id": "Hs5my1YvXtR3"
   },
   "source": [
    "We reverse the 'word2idx' dictionary into 'idx2word' and get the fake center word as 'dire' in the fake corpus."
   ]
  },
  {
   "cell_type": "code",
   "execution_count": null,
   "metadata": {
    "colab": {
     "base_uri": "https://localhost:8080/"
    },
    "id": "UYm5a7y0TRfd",
    "outputId": "91f17694-2ab6-4784-abf0-bc701765cc44"
   },
   "outputs": [
    {
     "name": "stdout",
     "output_type": "stream",
     "text": [
      "were\n"
     ]
    }
   ],
   "source": [
    "idx2word = {index: word for word, index in word2idx.items()}\n",
    "q15_fake_word = idx2word[q14_fake_word_idx]\n",
    "print(q15_fake_word)"
   ]
  },
  {
   "cell_type": "markdown",
   "metadata": {
    "id": "eRQl29UYxY5o"
   },
   "source": [
    "### 3.3 Creating the training dataset"
   ]
  },
  {
   "cell_type": "markdown",
   "metadata": {
    "id": "KoRh--axxLF6"
   },
   "source": [
    "We define for each corpus as the following:\n",
    "<center><img width=\"280\" src = \"https://drive.google.com/uc?export=view&id=1oqDWHYihUegmXDNnLXfFzwPM1MeQT1SG\"></center>\n",
    "Then, we could get the sum of the total number of context words associated with each center word in each document as the following function:\n",
    "<center><img width=\"160\" src = \"https://drive.google.com/uc?export=view&id=18zEl36AVdY_V5ggrDSQtcxWDcrs69hK6\"></center>\n",
    "Then, we could get the $N_T$ as followed:\n",
    "<center><img width=\"300\" src = \"https://drive.google.com/uc?export=view&id=1nicHeAdy7sk6bHQsTiAdqJ9bVDK2DU3m\"></center>\n",
    "\n"
   ]
  },
  {
   "cell_type": "markdown",
   "metadata": {
    "id": "MYhalGbx1OFF"
   },
   "source": [
    "The number of fake couples is the same as the number of the true couples. Because it only changes the centre word from true centre word into fake centre word. Therefore, the number of fake couples is showing as followed:\n",
    "<center><img width=\"300\" src = \"https://drive.google.com/uc?export=view&id=1YhF7pzKd7RUwF3uUKg9-eDqDWkQkwAQr\"></center>"
   ]
  },
  {
   "cell_type": "markdown",
   "metadata": {
    "id": "XrKpcYTA2BAH"
   },
   "source": [
    "## 4 Learning the Word Vectors"
   ]
  },
  {
   "cell_type": "markdown",
   "metadata": {
    "id": "mVTN-Mz_2EjD"
   },
   "source": [
    "### 4.1 The Forward Propagation"
   ]
  },
  {
   "cell_type": "markdown",
   "metadata": {
    "id": "FklG4iy5Sau5"
   },
   "source": [
    "The structure and shape (in the backets) of $W_1$ and $W_2$ are showing as below:\n",
    "<center><img width=\"600\" src = \"https://drive.google.com/uc?export=view&id=1wEjflXDU1yTR-MRouo8xlHk6BRkLk2by\"></center>"
   ]
  },
  {
   "cell_type": "markdown",
   "metadata": {
    "id": "SREgfulQWS2w"
   },
   "source": [
    "We choose the $x$ row of $W_1$ and $o$ column of $W_2$. Then we calculate the probability of the $o$ position word works as the context word of the centre word $x$. While the output of sigmoid is between 0 and 1, the $p_o$ is the probability.\n",
    "<center><img width=\"600\" src = \"https://drive.google.com/uc?export=view&id=17fv_VZRgb4EiqVK_hzFnIu-WGSTwnD52\"></center>"
   ]
  },
  {
   "cell_type": "markdown",
   "metadata": {
    "id": "DxpLiHOKZenY"
   },
   "source": [
    "### 4.1.1 The Forward Propagation for the positive batch associated with the center word $w^t_i$"
   ]
  },
  {
   "cell_type": "markdown",
   "metadata": {
    "id": "1tYJ3F2cbnZW"
   },
   "source": [
    "Because we get the loss function as $J$ and the $t_n$ should be 1 for positive batch. Then we could get:\n",
    "<center><img width=\"200\" src = \"https://drive.google.com/uc?export=view&id=1-y3P-9e437ALeAjia-UE7vRQqSq9aGD_\"></center>\n",
    "\n",
    "We have already know the formula for $p_o$. Here, we assume the centre word is $i_t$, number of context words is $K$ and they are represented as $k$. Therefore, the $J^{w^t_i}_+$ is:\n",
    "<center><img width=\"300\" src = \"https://drive.google.com/uc?export=view&id=1NuPmystC25Qz171EhJsjbXuolfbcSeXb\"></center>"
   ]
  },
  {
   "cell_type": "markdown",
   "metadata": {
    "id": "q6_oYL0usvGh"
   },
   "source": [
    "### 4.1.2 The Forward Propagation for the negative batch associated with the center word $w^t_i$"
   ]
  },
  {
   "cell_type": "markdown",
   "metadata": {
    "id": "m23eyW9EmwJm"
   },
   "source": [
    "Because we get the loss function as $J$ and the $t_n$ should be 0 for negative batch. Then we could get:\n",
    "<center><img width=\"200\" src = \"https://drive.google.com/uc?export=view&id=1u5Q4eISZePHzP_Be1QHJTg4q7EBIsYBY\"></center>\n",
    "\n",
    "We have already know the formula for $p_o$. Here, we assume the fake centre word is $i_f$, number of context words is $K$ and they are represented as $k$. Therefore, the $J^{w^f_i}_-$ is:\n",
    "<center><img width=\"300\" src = \"https://drive.google.com/uc?export=view&id=1n_5-H3vWbL090KTDDTpRbCEs2_YdtEy_\"></center>\n"
   ]
  },
  {
   "cell_type": "markdown",
   "metadata": {
    "id": "w09Al9NRtCXP"
   },
   "source": [
    "## 4.2 The Backward Propagation"
   ]
  },
  {
   "cell_type": "markdown",
   "metadata": {
    "id": "On-VN5k1tE_H"
   },
   "source": [
    "### 4.2.1 Updating the parameters after the forward propagation associated with the positive batch"
   ]
  },
  {
   "cell_type": "markdown",
   "metadata": {
    "id": "T8nng9tmpTh7"
   },
   "source": [
    "For true corpus, the $i_t$ row of $W_1$ and {$1,...,K$} columns of $W_2$ are involved in the computation of $p_c$."
   ]
  },
  {
   "cell_type": "markdown",
   "metadata": {
    "id": "E7NfQRa5rkd7"
   },
   "source": [
    "The update equation of $W_1$ and $W_2$ after the forward propagation associated with positive batch are shown as below:\n",
    "<center><img width=\"450\" src = \"https://drive.google.com/uc?export=view&id=1yTUe5xay4MO2Zb7_8KntykQLRyiARb34\"></center>"
   ]
  },
  {
   "cell_type": "markdown",
   "metadata": {
    "id": "8uGXqcf-tQBQ"
   },
   "source": [
    "### 4.2.2 Updating the parameters after the forward propagation associated with the negative batch"
   ]
  },
  {
   "cell_type": "markdown",
   "metadata": {
    "id": "ssAtoncdtZkP"
   },
   "source": [
    "For fake corpus, the $i_f$ row of $W_1$ and {$1,...,K$} columns of $W_2$ are involved in the computation of $p_c$."
   ]
  },
  {
   "cell_type": "markdown",
   "metadata": {
    "id": "Jk6N3oxQte8E"
   },
   "source": [
    "The update equation of $W_1$ and $W_2$ after the forward propagation associated with negative batch are shown as below:\n",
    "<center><img width=\"450\" src = \"https://drive.google.com/uc?export=view&id=1vlG1KaOGFgguAxhr-7DUIIvK2bZgQ3Rb\"></center>"
   ]
  },
  {
   "cell_type": "markdown",
   "metadata": {
    "id": "sno6ZIediE20"
   },
   "source": [
    "We shuffle the sequences and only choose 2000 of them (this has been done before) for the test of the Word2Vec Algorithm.\n",
    "\n",
    "We set the parameters at the top."
   ]
  },
  {
   "cell_type": "code",
   "execution_count": null,
   "metadata": {
    "colab": {
     "base_uri": "https://localhost:8080/"
    },
    "id": "FDFwo1GkoWog",
    "outputId": "3c097bff-acc4-49cd-bb82-286787bf7c56"
   },
   "outputs": [
    {
     "name": "stdout",
     "output_type": "stream",
     "text": [
      "10\n",
      "20\n",
      "30\n",
      "40\n",
      "50\n"
     ]
    }
   ],
   "source": [
    "# Define parameters\n",
    "epoches = 50\n",
    "learning_rate = 0.0025\n",
    "V = max_number_words\n",
    "D = 50\n",
    "negative_sampling_distribution = negative_sampling(sequences, max_number_words)\n",
    "\n",
    "# Gradient Descent Algorithm\n",
    "W1 = np.random.random((V,D))\n",
    "W2 = np.random.random((D,V))\n",
    "\n",
    "losses = []\n",
    "\n",
    "for epoch in range(epoches):\n",
    "  loss = 0\n",
    "  for sequence in sequences:\n",
    "    position = 0\n",
    "    for word in sequence:\n",
    "      if index_to_word[word] != '<sos>' and index_to_word[word] != '<eos>':\n",
    "        i_t = word\n",
    "        i_t_position = position\n",
    "        i_t_contextsize = 3\n",
    "        position += 1\n",
    "        i_t_context_words = get_context_words(i_t_position, sequence, i_t_contextsize)\n",
    "\n",
    "        # Delete '<sos>' and '<eos>'\n",
    "        if word_to_index['<sos>'] in i_t_context_words:\n",
    "          i_t_context_words.remove(word_to_index['<sos>'])\n",
    "        if word_to_index['<eos>'] in i_t_context_words:\n",
    "          i_t_context_words.remove(word_to_index['<eos>'])\n",
    "\n",
    "        # Generate fake center word\n",
    "        while True:\n",
    "          i_f = generate_negative_sampling(negative_sampling_distribution)\n",
    "          if index_to_word[i_f] != '<sos>' and index_to_word[i_f] != '<eos>':\n",
    "            break\n",
    "\n",
    "        #print(i_t_context_words)\n",
    "\n",
    "        W1_previous = W1\n",
    "        W2_previous = W2\n",
    "        J_loss_positive = 0\n",
    "        sum_log_part = 0\n",
    "        for i in range(len(i_t_context_words)):\n",
    "          W1[[i_t],:] -= learning_rate*(expit(W1_previous[[i_t],:].dot(W2_previous[:,[i_t_context_words[i]]]))-1)*(W2_previous[:,[i_t_context_words[i]]].T)/len(i_t_context_words)\n",
    "          W2[:,[i_t_context_words[i]]] -= learning_rate*(expit(W1_previous[[i_t],:].dot(W2_previous[:,[i_t_context_words[i]]]))-1)*(W1_previous[[i_t],:].T)/len(i_t_context_words)\n",
    "          sum_log_part += np.log(expit(W1[[i_t],:].dot(W2[:,[i_t_context_words[i]]])))\n",
    "        J_loss_positive = -1/len(i_t_context_words)*sum_log_part\n",
    "\n",
    "        loss += J_loss_positive\n",
    "\n",
    "\n",
    "        W1_previous = W1\n",
    "        W2_previous = W2\n",
    "        J_loss_negative = 0\n",
    "        sum_log_part = 0\n",
    "        for i in range(len(i_t_context_words)):\n",
    "          W1[[i_f],:] -= learning_rate*(expit(W1_previous[[i_f],:].dot(W2_previous[:,[i_t_context_words[i]]])))*(W2_previous[:,[i_t_context_words[i]]].T)/len(i_t_context_words)\n",
    "          W2[:,[i_t_context_words[i]]] -= learning_rate*(expit(W1_previous[[i_f],:].dot(W2_previous[:,[i_t_context_words[i]]])))*(W1_previous[[i_f],:].T)/len(i_t_context_words)\n",
    "          sum_log_part += np.log(1- expit(W1[[i_f],:].dot(W2[:,[i_t_context_words[i]]])))\n",
    "        J_loss_negative = -1/len(i_t_context_words)*sum_log_part\n",
    "\n",
    "        loss += J_loss_negative\n",
    "\n",
    "  \n",
    "  losses.append(float(loss))\n",
    "  if epoch in [9,19,29,39,49]:\n",
    "    print(epoch+1)"
   ]
  },
  {
   "cell_type": "markdown",
   "metadata": {
    "id": "5vNk8jf8sx44"
   },
   "source": [
    "We plot the list of losses. It shows that there is an significant decrease for the gradient."
   ]
  },
  {
   "cell_type": "code",
   "execution_count": null,
   "metadata": {
    "colab": {
     "base_uri": "https://localhost:8080/",
     "height": 295
    },
    "id": "ejzv4ojJFhFp",
    "outputId": "61559b9e-2201-4d12-f727-d199f1e782e6"
   },
   "outputs": [
    {
     "data": {
      "image/png": "[encoded data removed]",
      "text/plain": [
       "<Figure size 432x288 with 1 Axes>"
      ]
     },
     "metadata": {
      "needs_background": "light"
     },
     "output_type": "display_data"
    }
   ],
   "source": [
    "plt.plot(losses)\n",
    "plt.xlabel(\"iteration\")\n",
    "plt.ylabel(\"Loss\")\n",
    "plt.title(\"Gradient Descent of the Word2Vec Algorithm\")\n",
    "plt.show()"
   ]
  },
  {
   "cell_type": "markdown",
   "metadata": {
    "id": "AXa5z1MXx4kF"
   },
   "source": [
    "An embedding matrix is a list of all words and their corresponding embeddings. For each word $x$ in V, there are V dimension pairs of $W_1[x]$ and $W_2[i]$ to indicate the embedding matrix of $i$ that related to $x$. Therefore, the dimension of the embedding matrix is $V$.\n",
    "We could get this embedding matrix by calculating the $W_1$ and $W_2$ to get a matrix of shape $V*V$. The column on the left indicating all the words while each row indicating the embedding vector of the word (with the size of $V$).\n"
   ]
  },
  {
   "cell_type": "markdown",
   "metadata": {
    "id": "f_cpki4Uh6YZ"
   },
   "source": [
    "The idea here is that we assume the probabilities of each word is the embedding vector (with the size of $V$). However, there are some probabilities which are quite small, indicating that the word is not the contextword of the center word. \n",
    "\n",
    "So, the first step we do is to calcualte the embedding matrix by applying the formulation in Question 19 (the probability one). And then, we just use the $PCA$ to decrease the $V$ dimensions into $2$.\n",
    "\n",
    "We show an example of word $to$ and its reduced embedding vector [24.54347934 -1.93969991].\n",
    "\n",
    "Finally, we use scatter to plot the two dimensions. It shows a shape of 'Nike'."
   ]
  },
  {
   "cell_type": "code",
   "execution_count": null,
   "metadata": {
    "colab": {
     "base_uri": "https://localhost:8080/"
    },
    "id": "1Fv4kwWV0dvk",
    "outputId": "64cf3e7c-5b0d-45a0-998e-1f8e5497eb59"
   },
   "outputs": [
    {
     "name": "stdout",
     "output_type": "stream",
     "text": [
      "to\n",
      "[24.54347934 -1.93969991]\n"
     ]
    }
   ],
   "source": [
    "Q29_W1 = W1\n",
    "Q29_W2 = W2\n",
    "embedding_matrix = np.random.random((V,V))\n",
    "\n",
    "for i in range(V):\n",
    "  for j in range(V):\n",
    "    embedding_matrix[i][j] = expit(Q29_W1[[i],:].dot(Q29_W2[:,[j]]))\n",
    "\n",
    "pca = PCA(n_components = 2)\n",
    "reduced_embedding_matrix = pca.fit_transform(embedding_matrix)\n",
    "\n",
    "# Show the embedding vector of the third word\n",
    "print(index_to_word[3])\n",
    "print(reduced_embedding_matrix[3])"
   ]
  },
  {
   "cell_type": "code",
   "execution_count": null,
   "metadata": {
    "colab": {
     "base_uri": "https://localhost:8080/",
     "height": 295
    },
    "id": "2bM2SKM0ekJL",
    "outputId": "14f04a73-eaef-4040-fe1c-17921f23c9cb"
   },
   "outputs": [
    {
     "data": {
      "image/png": "[encoded data removed]",
      "text/plain": [
       "<Figure size 432x288 with 1 Axes>"
      ]
     },
     "metadata": {
      "needs_background": "light"
     },
     "output_type": "display_data"
    }
   ],
   "source": [
    "plt.scatter(reduced_embedding_matrix[:,[0]], reduced_embedding_matrix[:,[1]])\n",
    "plt.xlabel(\"X Dimension of word vector\")\n",
    "plt.ylabel(\"Y Dimension of word vector\")\n",
    "plt.title(\"Embedding Vectors into 2 Dimensions\")\n",
    "plt.show()"
   ]
  },
  {
   "cell_type": "markdown",
   "metadata": {
    "id": "VB5yCZGIi7v6"
   },
   "source": [
    "\n",
    "We use word_to_index function to find the word 'france', 'paris', 'england' and 'london'. Then we calcualte the difference between their embedding vector. From the result we could find that in the second dimension, two numbers are extremely close while in the first dimension, they are a small distance. This makes sense becuase we only use 2000 documents as the corpus. \n",
    "\n",
    "Then we try another pair $e_{China}$ - $e_{Beijing}$ and $e_{Korea}$ - $e_{Seoul}$. We could find that in both two dimensions, the numbers are very close. Therefore, we get the correct algorithm and embedding matrix."
   ]
  },
  {
   "cell_type": "code",
   "execution_count": null,
   "metadata": {
    "colab": {
     "base_uri": "https://localhost:8080/"
    },
    "id": "JVenf_wwgIST",
    "outputId": "f87c9b4d-dbcc-4a62-a545-b4d9e16390a9"
   },
   "outputs": [
    {
     "name": "stdout",
     "output_type": "stream",
     "text": [
      "[ 4.25693475 -0.84833848]\n",
      "[ 8.92380335 -0.95580374]\n"
     ]
    }
   ],
   "source": [
    "# Calcualte France - Paris and England - London\n",
    "\n",
    "# France - Paris\n",
    "print(reduced_embedding_matrix[word_to_index['france']]-reduced_embedding_matrix[word_to_index['paris']])\n",
    "\n",
    "# England - London\n",
    "print(reduced_embedding_matrix[word_to_index['england']]-reduced_embedding_matrix[word_to_index['london']])"
   ]
  },
  {
   "cell_type": "code",
   "execution_count": null,
   "metadata": {
    "colab": {
     "base_uri": "https://localhost:8080/"
    },
    "id": "Pk0rZqyU2--h",
    "outputId": "f87d50dd-b234-40b2-e099-c86f56d409bd"
   },
   "outputs": [
    {
     "name": "stdout",
     "output_type": "stream",
     "text": [
      "[42.39784114  2.2067881 ]\n",
      "[43.13061523  2.14364273]\n"
     ]
    }
   ],
   "source": [
    "# Calcualte China - Beijing and Korea - Soul\n",
    "\n",
    "# China - Beijing\n",
    "print(reduced_embedding_matrix[word_to_index['china']]-reduced_embedding_matrix[word_to_index['beijing']])\n",
    "\n",
    "# Korea - Seoul\n",
    "print(reduced_embedding_matrix[word_to_index['korea']]-reduced_embedding_matrix[word_to_index['seoul']])"
   ]
  }
 ],
 "metadata": {
  "colab": {
   "collapsed_sections": [],
   "name": "Coursework-Group10.pynb",
   "provenance": []
  },
  "kernelspec": {
   "display_name": "Python 3 (ipykernel)",
   "language": "python",
   "name": "python3"
  },
  "language_info": {
   "codemirror_mode": {
    "name": "ipython",
    "version": 3
   },
   "file_extension": ".py",
   "mimetype": "text/x-python",
   "name": "python",
   "nbconvert_exporter": "python",
   "pygments_lexer": "ipython3",
   "version": "3.9.6"
  }
 },
 "nbformat": 4,
 "nbformat_minor": 1
}
